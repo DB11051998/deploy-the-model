{
 "cells": [
  {
   "cell_type": "code",
   "execution_count": 1,
   "metadata": {},
   "outputs": [
    {
     "ename": "ImportError",
     "evalue": "No module named 'pandas'",
     "output_type": "error",
     "traceback": [
      "\u001b[0;31m---------------------------------------------------------------------------\u001b[0m",
      "\u001b[0;31mImportError\u001b[0m                               Traceback (most recent call last)",
      "\u001b[0;32m<ipython-input-1-38c9263a9166>\u001b[0m in \u001b[0;36m<module>\u001b[0;34m\u001b[0m\n\u001b[0;32m----> 1\u001b[0;31m \u001b[0;32mimport\u001b[0m \u001b[0mpandas\u001b[0m \u001b[0;32mas\u001b[0m \u001b[0mpd\u001b[0m\u001b[0;34m\u001b[0m\u001b[0m\n\u001b[0m\u001b[1;32m      2\u001b[0m \u001b[0;32mimport\u001b[0m \u001b[0mnumpy\u001b[0m \u001b[0;32mas\u001b[0m \u001b[0mnp\u001b[0m\u001b[0;34m\u001b[0m\u001b[0m\n\u001b[1;32m      3\u001b[0m \u001b[0;32mimport\u001b[0m \u001b[0mmatplotlib\u001b[0m\u001b[0;34m.\u001b[0m\u001b[0mpyplot\u001b[0m \u001b[0;32mas\u001b[0m \u001b[0mplt\u001b[0m\u001b[0;34m\u001b[0m\u001b[0m\n\u001b[1;32m      4\u001b[0m \u001b[0;32mimport\u001b[0m \u001b[0mseaborn\u001b[0m \u001b[0;32mas\u001b[0m \u001b[0msns\u001b[0m\u001b[0;34m\u001b[0m\u001b[0m\n\u001b[1;32m      5\u001b[0m \u001b[0;32mimport\u001b[0m \u001b[0mpickle\u001b[0m\u001b[0;34m\u001b[0m\u001b[0m\n",
      "\u001b[0;31mImportError\u001b[0m: No module named 'pandas'"
     ]
    }
   ],
   "source": [
    "import pandas as pd\n",
    "import numpy as np\n",
    "import matplotlib.pyplot as plt\n",
    "import seaborn as sns\n",
    "import pickle"
   ]
  },
  {
   "cell_type": "code",
   "execution_count": 75,
   "metadata": {},
   "outputs": [],
   "source": [
    "df_train=pd.read_html('SOCR_Data_Dinov_020108_HeightsWeights.html')"
   ]
  },
  {
   "cell_type": "code",
   "execution_count": 76,
   "metadata": {},
   "outputs": [],
   "source": [
    "df = pd.concat(df_train)\n"
   ]
  },
  {
   "cell_type": "code",
   "execution_count": 77,
   "metadata": {},
   "outputs": [],
   "source": [
    "df['index']=df[0]\n",
    "df['Heightin']=df[1]\n",
    "df['Weightpo']=df[2]"
   ]
  },
  {
   "cell_type": "code",
   "execution_count": 78,
   "metadata": {},
   "outputs": [],
   "source": [
    "df.drop(columns=[0,1,2],inplace=True)"
   ]
  },
  {
   "cell_type": "code",
   "execution_count": 79,
   "metadata": {},
   "outputs": [],
   "source": [
    "df.drop(index=0,axis=0,inplace=True)"
   ]
  },
  {
   "cell_type": "code",
   "execution_count": 80,
   "metadata": {},
   "outputs": [
    {
     "data": {
      "text/html": [
       "<div>\n",
       "<style scoped>\n",
       "    .dataframe tbody tr th:only-of-type {\n",
       "        vertical-align: middle;\n",
       "    }\n",
       "\n",
       "    .dataframe tbody tr th {\n",
       "        vertical-align: top;\n",
       "    }\n",
       "\n",
       "    .dataframe thead th {\n",
       "        text-align: right;\n",
       "    }\n",
       "</style>\n",
       "<table border=\"1\" class=\"dataframe\">\n",
       "  <thead>\n",
       "    <tr style=\"text-align: right;\">\n",
       "      <th></th>\n",
       "      <th>level_0</th>\n",
       "      <th>index</th>\n",
       "      <th>Heightin</th>\n",
       "      <th>Weightpo</th>\n",
       "    </tr>\n",
       "  </thead>\n",
       "  <tbody>\n",
       "    <tr>\n",
       "      <th>0</th>\n",
       "      <td>1</td>\n",
       "      <td>1</td>\n",
       "      <td>65.78331</td>\n",
       "      <td>112.9925</td>\n",
       "    </tr>\n",
       "    <tr>\n",
       "      <th>1</th>\n",
       "      <td>2</td>\n",
       "      <td>2</td>\n",
       "      <td>71.51521</td>\n",
       "      <td>136.4873</td>\n",
       "    </tr>\n",
       "    <tr>\n",
       "      <th>2</th>\n",
       "      <td>3</td>\n",
       "      <td>3</td>\n",
       "      <td>69.39874</td>\n",
       "      <td>153.0269</td>\n",
       "    </tr>\n",
       "    <tr>\n",
       "      <th>3</th>\n",
       "      <td>4</td>\n",
       "      <td>4</td>\n",
       "      <td>68.2166</td>\n",
       "      <td>142.3354</td>\n",
       "    </tr>\n",
       "    <tr>\n",
       "      <th>4</th>\n",
       "      <td>5</td>\n",
       "      <td>5</td>\n",
       "      <td>67.78781</td>\n",
       "      <td>144.2971</td>\n",
       "    </tr>\n",
       "    <tr>\n",
       "      <th>...</th>\n",
       "      <td>...</td>\n",
       "      <td>...</td>\n",
       "      <td>...</td>\n",
       "      <td>...</td>\n",
       "    </tr>\n",
       "    <tr>\n",
       "      <th>10426</th>\n",
       "      <td>10427</td>\n",
       "      <td>10427</td>\n",
       "      <td>70.92745</td>\n",
       "      <td>129.8921</td>\n",
       "    </tr>\n",
       "    <tr>\n",
       "      <th>10427</th>\n",
       "      <td>10428</td>\n",
       "      <td>10428</td>\n",
       "      <td>64.90177</td>\n",
       "      <td>111.0552</td>\n",
       "    </tr>\n",
       "    <tr>\n",
       "      <th>10428</th>\n",
       "      <td>10429</td>\n",
       "      <td>10429</td>\n",
       "      <td>65.83748</td>\n",
       "      <td>120.8376</td>\n",
       "    </tr>\n",
       "    <tr>\n",
       "      <th>10429</th>\n",
       "      <td>10430</td>\n",
       "      <td>10430</td>\n",
       "      <td>67.36794</td>\n",
       "      <td>131.8412</td>\n",
       "    </tr>\n",
       "    <tr>\n",
       "      <th>10430</th>\n",
       "      <td>10431</td>\n",
       "      <td>10431</td>\n",
       "      <td>NaN</td>\n",
       "      <td>NaN</td>\n",
       "    </tr>\n",
       "  </tbody>\n",
       "</table>\n",
       "<p>10431 rows × 4 columns</p>\n",
       "</div>"
      ],
      "text/plain": [
       "       level_0  index  Heightin  Weightpo\n",
       "0            1      1  65.78331  112.9925\n",
       "1            2      2  71.51521  136.4873\n",
       "2            3      3  69.39874  153.0269\n",
       "3            4      4   68.2166  142.3354\n",
       "4            5      5  67.78781  144.2971\n",
       "...        ...    ...       ...       ...\n",
       "10426    10427  10427  70.92745  129.8921\n",
       "10427    10428  10428  64.90177  111.0552\n",
       "10428    10429  10429  65.83748  120.8376\n",
       "10429    10430  10430  67.36794  131.8412\n",
       "10430    10431  10431       NaN       NaN\n",
       "\n",
       "[10431 rows x 4 columns]"
      ]
     },
     "execution_count": 80,
     "metadata": {},
     "output_type": "execute_result"
    }
   ],
   "source": [
    "df.reset_index()"
   ]
  },
  {
   "cell_type": "code",
   "execution_count": 81,
   "metadata": {},
   "outputs": [],
   "source": [
    "df.drop(columns=['index'],inplace=True)"
   ]
  },
  {
   "cell_type": "code",
   "execution_count": 82,
   "metadata": {},
   "outputs": [
    {
     "data": {
      "text/html": [
       "<div>\n",
       "<style scoped>\n",
       "    .dataframe tbody tr th:only-of-type {\n",
       "        vertical-align: middle;\n",
       "    }\n",
       "\n",
       "    .dataframe tbody tr th {\n",
       "        vertical-align: top;\n",
       "    }\n",
       "\n",
       "    .dataframe thead th {\n",
       "        text-align: right;\n",
       "    }\n",
       "</style>\n",
       "<table border=\"1\" class=\"dataframe\">\n",
       "  <thead>\n",
       "    <tr style=\"text-align: right;\">\n",
       "      <th></th>\n",
       "      <th>Heightin</th>\n",
       "      <th>Weightpo</th>\n",
       "    </tr>\n",
       "  </thead>\n",
       "  <tbody>\n",
       "    <tr>\n",
       "      <th>1</th>\n",
       "      <td>65.78331</td>\n",
       "      <td>112.9925</td>\n",
       "    </tr>\n",
       "    <tr>\n",
       "      <th>2</th>\n",
       "      <td>71.51521</td>\n",
       "      <td>136.4873</td>\n",
       "    </tr>\n",
       "    <tr>\n",
       "      <th>3</th>\n",
       "      <td>69.39874</td>\n",
       "      <td>153.0269</td>\n",
       "    </tr>\n",
       "    <tr>\n",
       "      <th>4</th>\n",
       "      <td>68.2166</td>\n",
       "      <td>142.3354</td>\n",
       "    </tr>\n",
       "    <tr>\n",
       "      <th>5</th>\n",
       "      <td>67.78781</td>\n",
       "      <td>144.2971</td>\n",
       "    </tr>\n",
       "    <tr>\n",
       "      <th>...</th>\n",
       "      <td>...</td>\n",
       "      <td>...</td>\n",
       "    </tr>\n",
       "    <tr>\n",
       "      <th>10427</th>\n",
       "      <td>70.92745</td>\n",
       "      <td>129.8921</td>\n",
       "    </tr>\n",
       "    <tr>\n",
       "      <th>10428</th>\n",
       "      <td>64.90177</td>\n",
       "      <td>111.0552</td>\n",
       "    </tr>\n",
       "    <tr>\n",
       "      <th>10429</th>\n",
       "      <td>65.83748</td>\n",
       "      <td>120.8376</td>\n",
       "    </tr>\n",
       "    <tr>\n",
       "      <th>10430</th>\n",
       "      <td>67.36794</td>\n",
       "      <td>131.8412</td>\n",
       "    </tr>\n",
       "    <tr>\n",
       "      <th>10431</th>\n",
       "      <td>NaN</td>\n",
       "      <td>NaN</td>\n",
       "    </tr>\n",
       "  </tbody>\n",
       "</table>\n",
       "<p>10431 rows × 2 columns</p>\n",
       "</div>"
      ],
      "text/plain": [
       "       Heightin  Weightpo\n",
       "1      65.78331  112.9925\n",
       "2      71.51521  136.4873\n",
       "3      69.39874  153.0269\n",
       "4       68.2166  142.3354\n",
       "5      67.78781  144.2971\n",
       "...         ...       ...\n",
       "10427  70.92745  129.8921\n",
       "10428  64.90177  111.0552\n",
       "10429  65.83748  120.8376\n",
       "10430  67.36794  131.8412\n",
       "10431       NaN       NaN\n",
       "\n",
       "[10431 rows x 2 columns]"
      ]
     },
     "execution_count": 82,
     "metadata": {},
     "output_type": "execute_result"
    }
   ],
   "source": [
    "df"
   ]
  },
  {
   "cell_type": "code",
   "execution_count": 83,
   "metadata": {},
   "outputs": [
    {
     "data": {
      "text/plain": [
       "Heightin    1\n",
       "Weightpo    1\n",
       "dtype: int64"
      ]
     },
     "execution_count": 83,
     "metadata": {},
     "output_type": "execute_result"
    }
   ],
   "source": [
    "df.isna().sum()"
   ]
  },
  {
   "cell_type": "code",
   "execution_count": 84,
   "metadata": {
    "scrolled": true
   },
   "outputs": [
    {
     "data": {
      "text/plain": [
       "Heightin    object\n",
       "Weightpo    object\n",
       "dtype: object"
      ]
     },
     "execution_count": 84,
     "metadata": {},
     "output_type": "execute_result"
    }
   ],
   "source": [
    "df.dtypes"
   ]
  },
  {
   "cell_type": "code",
   "execution_count": 85,
   "metadata": {},
   "outputs": [],
   "source": [
    "#convert object type to float type\n",
    "df['Heightin']=pd.to_numeric(df['Heightin'],errors='coerce')\n",
    "df['Weightpo']=pd.to_numeric(df['Weightpo'],errors='coerce')\n",
    "    "
   ]
  },
  {
   "cell_type": "code",
   "execution_count": 86,
   "metadata": {},
   "outputs": [
    {
     "data": {
      "text/plain": [
       "Heightin    float64\n",
       "Weightpo    float64\n",
       "dtype: object"
      ]
     },
     "execution_count": 86,
     "metadata": {},
     "output_type": "execute_result"
    }
   ],
   "source": [
    "df.dtypes"
   ]
  },
  {
   "cell_type": "code",
   "execution_count": 87,
   "metadata": {},
   "outputs": [
    {
     "data": {
      "text/html": [
       "<div>\n",
       "<style scoped>\n",
       "    .dataframe tbody tr th:only-of-type {\n",
       "        vertical-align: middle;\n",
       "    }\n",
       "\n",
       "    .dataframe tbody tr th {\n",
       "        vertical-align: top;\n",
       "    }\n",
       "\n",
       "    .dataframe thead th {\n",
       "        text-align: right;\n",
       "    }\n",
       "</style>\n",
       "<table border=\"1\" class=\"dataframe\">\n",
       "  <thead>\n",
       "    <tr style=\"text-align: right;\">\n",
       "      <th></th>\n",
       "      <th>Heightin</th>\n",
       "      <th>Weightpo</th>\n",
       "    </tr>\n",
       "  </thead>\n",
       "  <tbody>\n",
       "    <tr>\n",
       "      <th>count</th>\n",
       "      <td>10430.000000</td>\n",
       "      <td>10430.000000</td>\n",
       "    </tr>\n",
       "    <tr>\n",
       "      <th>mean</th>\n",
       "      <td>67.982020</td>\n",
       "      <td>127.215905</td>\n",
       "    </tr>\n",
       "    <tr>\n",
       "      <th>std</th>\n",
       "      <td>1.905226</td>\n",
       "      <td>11.615644</td>\n",
       "    </tr>\n",
       "    <tr>\n",
       "      <th>min</th>\n",
       "      <td>60.612650</td>\n",
       "      <td>83.085270</td>\n",
       "    </tr>\n",
       "    <tr>\n",
       "      <th>25%</th>\n",
       "      <td>66.676907</td>\n",
       "      <td>119.489550</td>\n",
       "    </tr>\n",
       "    <tr>\n",
       "      <th>50%</th>\n",
       "      <td>67.983960</td>\n",
       "      <td>127.348300</td>\n",
       "    </tr>\n",
       "    <tr>\n",
       "      <th>75%</th>\n",
       "      <td>69.258360</td>\n",
       "      <td>134.925975</td>\n",
       "    </tr>\n",
       "    <tr>\n",
       "      <th>max</th>\n",
       "      <td>75.152800</td>\n",
       "      <td>170.924000</td>\n",
       "    </tr>\n",
       "  </tbody>\n",
       "</table>\n",
       "</div>"
      ],
      "text/plain": [
       "           Heightin      Weightpo\n",
       "count  10430.000000  10430.000000\n",
       "mean      67.982020    127.215905\n",
       "std        1.905226     11.615644\n",
       "min       60.612650     83.085270\n",
       "25%       66.676907    119.489550\n",
       "50%       67.983960    127.348300\n",
       "75%       69.258360    134.925975\n",
       "max       75.152800    170.924000"
      ]
     },
     "execution_count": 87,
     "metadata": {},
     "output_type": "execute_result"
    }
   ],
   "source": [
    "df.describe()"
   ]
  },
  {
   "cell_type": "code",
   "execution_count": 88,
   "metadata": {
    "scrolled": false
   },
   "outputs": [],
   "source": [
    "df.drop(index=10431,inplace=True)"
   ]
  },
  {
   "cell_type": "markdown",
   "metadata": {},
   "source": [
    "convert height in inches to cms"
   ]
  },
  {
   "cell_type": "code",
   "execution_count": 90,
   "metadata": {},
   "outputs": [],
   "source": [
    "def inch2m(df):\n",
    "    m=(2.54*df)/100\n",
    "    return(m)"
   ]
  },
  {
   "cell_type": "code",
   "execution_count": 93,
   "metadata": {},
   "outputs": [],
   "source": [
    "def pound2kg(df):\n",
    "    kg=df*0.453592\n",
    "    return kg"
   ]
  },
  {
   "cell_type": "code",
   "execution_count": 91,
   "metadata": {},
   "outputs": [],
   "source": [
    "df['Heightin']=df.Heightin.apply(inch2m)"
   ]
  },
  {
   "cell_type": "code",
   "execution_count": 95,
   "metadata": {},
   "outputs": [],
   "source": [
    "df['Weightpo']=df.Weightpo.apply(pound2kg)"
   ]
  },
  {
   "cell_type": "code",
   "execution_count": 97,
   "metadata": {},
   "outputs": [
    {
     "data": {
      "text/html": [
       "<div>\n",
       "<style scoped>\n",
       "    .dataframe tbody tr th:only-of-type {\n",
       "        vertical-align: middle;\n",
       "    }\n",
       "\n",
       "    .dataframe tbody tr th {\n",
       "        vertical-align: top;\n",
       "    }\n",
       "\n",
       "    .dataframe thead th {\n",
       "        text-align: right;\n",
       "    }\n",
       "</style>\n",
       "<table border=\"1\" class=\"dataframe\">\n",
       "  <thead>\n",
       "    <tr style=\"text-align: right;\">\n",
       "      <th></th>\n",
       "      <th>Heightin</th>\n",
       "      <th>Weightpo</th>\n",
       "    </tr>\n",
       "  </thead>\n",
       "  <tbody>\n",
       "    <tr>\n",
       "      <th>1</th>\n",
       "      <td>1.670896</td>\n",
       "      <td>51.252494</td>\n",
       "    </tr>\n",
       "    <tr>\n",
       "      <th>2</th>\n",
       "      <td>1.816486</td>\n",
       "      <td>61.909547</td>\n",
       "    </tr>\n",
       "    <tr>\n",
       "      <th>3</th>\n",
       "      <td>1.762728</td>\n",
       "      <td>69.411778</td>\n",
       "    </tr>\n",
       "    <tr>\n",
       "      <th>4</th>\n",
       "      <td>1.732702</td>\n",
       "      <td>64.562199</td>\n",
       "    </tr>\n",
       "    <tr>\n",
       "      <th>5</th>\n",
       "      <td>1.721810</td>\n",
       "      <td>65.452010</td>\n",
       "    </tr>\n",
       "  </tbody>\n",
       "</table>\n",
       "</div>"
      ],
      "text/plain": [
       "   Heightin   Weightpo\n",
       "1  1.670896  51.252494\n",
       "2  1.816486  61.909547\n",
       "3  1.762728  69.411778\n",
       "4  1.732702  64.562199\n",
       "5  1.721810  65.452010"
      ]
     },
     "execution_count": 97,
     "metadata": {},
     "output_type": "execute_result"
    }
   ],
   "source": [
    "df.head()"
   ]
  },
  {
   "cell_type": "code",
   "execution_count": 104,
   "metadata": {},
   "outputs": [
    {
     "data": {
      "image/png": "[encoded data removed]",
      "text/plain": [
       "<Figure size 360x360 with 1 Axes>"
      ]
     },
     "metadata": {
      "needs_background": "light"
     },
     "output_type": "display_data"
    }
   ],
   "source": [
    "#scatter plot\n",
    "fig=plt.figure(figsize=(5,5))\n",
    "ax=fig.add_axes([0,0,1,1])\n",
    "ax.scatter(df.Heightin, df.Weightpo, color='r')\n",
    "ax.set_xlabel('Heights')\n",
    "ax.set_ylabel('WEIGHTS')\n",
    "ax.set_title('scatter plot')\n",
    "plt.show()"
   ]
  },
  {
   "cell_type": "code",
   "execution_count": 103,
   "metadata": {},
   "outputs": [
    {
     "data": {
      "image/png": "[encoded data removed]",
      "text/plain": [
       "<Figure size 720x720 with 1 Axes>"
      ]
     },
     "metadata": {
      "needs_background": "light"
     },
     "output_type": "display_data"
    }
   ],
   "source": [
    "#histplot of weights\n",
    "fig=plt.figure(figsize=(10,10))\n",
    "sns.distplot(df.Weightpo)\n",
    "plt.show()"
   ]
  },
  {
   "cell_type": "code",
   "execution_count": 105,
   "metadata": {},
   "outputs": [
    {
     "data": {
      "image/png": "[encoded data removed]",
      "text/plain": [
       "<Figure size 720x720 with 1 Axes>"
      ]
     },
     "metadata": {
      "needs_background": "light"
     },
     "output_type": "display_data"
    }
   ],
   "source": [
    "fig=plt.figure(figsize=(10,10))\n",
    "sns.distplot(df.Heightin)\n",
    "plt.show()"
   ]
  },
  {
   "cell_type": "code",
   "execution_count": 106,
   "metadata": {},
   "outputs": [
    {
     "data": {
      "image/png": "[encoded data removed]",
      "text/plain": [
       "<Figure size 432x432 with 3 Axes>"
      ]
     },
     "metadata": {
      "needs_background": "light"
     },
     "output_type": "display_data"
    }
   ],
   "source": [
    "sns.jointplot(x = 'Heightin',y = 'Weightpo',data = df,kind = 'hex')\n",
    "plt.show()"
   ]
  },
  {
   "cell_type": "code",
   "execution_count": 128,
   "metadata": {},
   "outputs": [],
   "source": [
    "from sklearn.model_selection import train_test_split\n",
    "from sklearn.linear_model import LinearRegression\n",
    "from sklearn.preprocessing import StandardScaler\n",
    "from sklearn import metrics"
   ]
  },
  {
   "cell_type": "code",
   "execution_count": 112,
   "metadata": {},
   "outputs": [],
   "source": [
    "X=df.Heightin.values\n",
    "y=df.Weightpo.values"
   ]
  },
  {
   "cell_type": "code",
   "execution_count": 114,
   "metadata": {},
   "outputs": [
    {
     "data": {
      "text/plain": [
       "array([51.25249406, 61.90954738, 69.41177762, ..., 50.37375028,\n",
       "       54.81096866, 59.80211359])"
      ]
     },
     "execution_count": 114,
     "metadata": {},
     "output_type": "execute_result"
    }
   ],
   "source": [
    "y"
   ]
  },
  {
   "cell_type": "code",
   "execution_count": 116,
   "metadata": {},
   "outputs": [],
   "source": [
    "X_train, X_test, y_train, y_test = train_test_split(X,y, test_size=0.33, random_state=42)"
   ]
  },
  {
   "cell_type": "markdown",
   "metadata": {},
   "source": [
    "# LinearRegression"
   ]
  },
  {
   "cell_type": "code",
   "execution_count": 123,
   "metadata": {},
   "outputs": [
    {
     "data": {
      "text/plain": [
       "LinearRegression(copy_X=True, fit_intercept=True, n_jobs=None, normalize=False)"
      ]
     },
     "execution_count": 123,
     "metadata": {},
     "output_type": "execute_result"
    }
   ],
   "source": [
    "lr=LinearRegression()\n",
    "lr.fit(X_train.reshape(-1,1),y_train)"
   ]
  },
  {
   "cell_type": "code",
   "execution_count": 124,
   "metadata": {},
   "outputs": [],
   "source": [
    "pred=lr.predict(X_test.reshape(-1,1))"
   ]
  },
  {
   "cell_type": "code",
   "execution_count": 125,
   "metadata": {},
   "outputs": [
    {
     "data": {
      "text/plain": [
       "array([57.33490299, 60.3657779 , 56.91815198, ..., 56.80933311,\n",
       "       54.77802363, 57.59383164])"
      ]
     },
     "execution_count": 125,
     "metadata": {},
     "output_type": "execute_result"
    }
   ],
   "source": [
    "pred"
   ]
  },
  {
   "cell_type": "code",
   "execution_count": 187,
   "metadata": {},
   "outputs": [
    {
     "data": {
      "text/plain": [
       "21.001032066384784"
      ]
     },
     "execution_count": 187,
     "metadata": {},
     "output_type": "execute_result"
    }
   ],
   "source": [
    "metrics.mean_squared_error(y_test.reshape(-1,1), pred)"
   ]
  },
  {
   "cell_type": "code",
   "execution_count": 131,
   "metadata": {},
   "outputs": [
    {
     "data": {
      "text/plain": [
       "0.26725607684906116"
      ]
     },
     "execution_count": 131,
     "metadata": {},
     "output_type": "execute_result"
    }
   ],
   "source": [
    "lr.score(X_train.reshape(-1,1),y_train)"
   ]
  },
  {
   "cell_type": "code",
   "execution_count": 132,
   "metadata": {},
   "outputs": [
    {
     "data": {
      "text/plain": [
       "0.24158715806335662"
      ]
     },
     "execution_count": 132,
     "metadata": {},
     "output_type": "execute_result"
    }
   ],
   "source": [
    "lr.score(X_test.reshape(-1,1),y_test)"
   ]
  },
  {
   "cell_type": "code",
   "execution_count": 137,
   "metadata": {},
   "outputs": [
    {
     "data": {
      "text/plain": [
       "-39.391094549584274"
      ]
     },
     "execution_count": 137,
     "metadata": {},
     "output_type": "execute_result"
    }
   ],
   "source": [
    "lr."
   ]
  },
  {
   "cell_type": "code",
   "execution_count": 136,
   "metadata": {},
   "outputs": [
    {
     "data": {
      "text/plain": [
       "array([[1.63794821],\n",
       "       [1.75670794],\n",
       "       [1.74248242],\n",
       "       ...,\n",
       "       [1.69990186],\n",
       "       [1.73719414],\n",
       "       [1.63800155]])"
      ]
     },
     "execution_count": 136,
     "metadata": {},
     "output_type": "execute_result"
    }
   ],
   "source": [
    "X_train.reshape(-1,1)"
   ]
  },
  {
   "cell_type": "markdown",
   "metadata": {},
   "source": [
    "# linear regression using ANN"
   ]
  },
  {
   "cell_type": "code",
   "execution_count": 153,
   "metadata": {},
   "outputs": [],
   "source": [
    "from keras.models import Sequential\n",
    "from keras.layers import Dense, Activation\n",
    "from keras.callbacks import ModelCheckpoint"
   ]
  },
  {
   "cell_type": "code",
   "execution_count": 180,
   "metadata": {},
   "outputs": [],
   "source": [
    "NN_model = Sequential()"
   ]
  },
  {
   "cell_type": "code",
   "execution_count": 181,
   "metadata": {},
   "outputs": [
    {
     "name": "stdout",
     "output_type": "stream",
     "text": [
      "Model: \"sequential_5\"\n",
      "_________________________________________________________________\n",
      "Layer (type)                 Output Shape              Param #   \n",
      "=================================================================\n",
      "dense_19 (Dense)             (None, 64)                128       \n",
      "_________________________________________________________________\n",
      "dense_20 (Dense)             (None, 16)                1040      \n",
      "_________________________________________________________________\n",
      "dense_21 (Dense)             (None, 16)                272       \n",
      "_________________________________________________________________\n",
      "dense_22 (Dense)             (None, 16)                272       \n",
      "_________________________________________________________________\n",
      "dense_23 (Dense)             (None, 1)                 17        \n",
      "=================================================================\n",
      "Total params: 1,729\n",
      "Trainable params: 1,729\n",
      "Non-trainable params: 0\n",
      "_________________________________________________________________\n"
     ]
    }
   ],
   "source": [
    "NN_model.add(Dense(64, kernel_initializer='normal',input_dim = X_train.reshape(-1,1).shape[1], activation='relu'))\n",
    "# The Hidden Layers :\n",
    "NN_model.add(Dense(16, kernel_initializer='normal',activation='relu'))\n",
    "NN_model.add(Dense(16, kernel_initializer='normal',activation='relu'))\n",
    "NN_model.add(Dense(16, kernel_initializer='normal',activation='relu'))\n",
    "\n",
    "# The Output Layer :\n",
    "NN_model.add(Dense(1, kernel_initializer='normal',activation='linear'))\n",
    "\n",
    "# Compile the network :\n",
    "NN_model.compile(loss='mean_absolute_error', optimizer='adam', metrics=['mean_absolute_error'])\n",
    "NN_model.summary()"
   ]
  },
  {
   "cell_type": "code",
   "execution_count": 177,
   "metadata": {},
   "outputs": [],
   "source": [
    "checkpoint_name = '/home/deba/dl/Weights-{epoch:03d}--{val_loss:.5f}.hdf5' \n",
    "checkpoint = ModelCheckpoint(checkpoint_name, monitor='val_loss', verbose = 1, save_best_only = True, mode ='auto')\n",
    "callbacks_list = [checkpoint]"
   ]
  },
  {
   "cell_type": "code",
   "execution_count": 182,
   "metadata": {},
   "outputs": [
    {
     "name": "stdout",
     "output_type": "stream",
     "text": [
      "Train on 5590 samples, validate on 1398 samples\n",
      "Epoch 1/100\n",
      "5590/5590 [==============================] - 6s 1ms/step - loss: 55.1864 - mean_absolute_error: 55.1864 - val_loss: 37.8137 - val_mean_absolute_error: 37.8137\n",
      "\n",
      "Epoch 00001: val_loss improved from 46.59524 to 37.81373, saving model to /home/deba/dl/Weights-001--37.81373.hdf5\n",
      "Epoch 2/100\n",
      "5590/5590 [==============================] - 2s 417us/step - loss: 7.3399 - mean_absolute_error: 7.3399 - val_loss: 3.8220 - val_mean_absolute_error: 3.8220\n",
      "\n",
      "Epoch 00002: val_loss improved from 37.81373 to 3.82197, saving model to /home/deba/dl/Weights-002--3.82197.hdf5\n",
      "Epoch 3/100\n",
      "5590/5590 [==============================] - 3s 502us/step - loss: 3.8901 - mean_absolute_error: 3.8901 - val_loss: 3.8192 - val_mean_absolute_error: 3.8192\n",
      "\n",
      "Epoch 00003: val_loss improved from 3.82197 to 3.81918, saving model to /home/deba/dl/Weights-003--3.81918.hdf5\n",
      "Epoch 4/100\n",
      "5590/5590 [==============================] - 2s 442us/step - loss: 3.8678 - mean_absolute_error: 3.8678 - val_loss: 3.8231 - val_mean_absolute_error: 3.8231\n",
      "\n",
      "Epoch 00004: val_loss did not improve from 3.81918\n",
      "Epoch 5/100\n",
      "5590/5590 [==============================] - 3s 517us/step - loss: 3.8944 - mean_absolute_error: 3.8944 - val_loss: 3.8269 - val_mean_absolute_error: 3.8269\n",
      "\n",
      "Epoch 00005: val_loss did not improve from 3.81918\n",
      "Epoch 6/100\n",
      "5590/5590 [==============================] - 3s 569us/step - loss: 3.8849 - mean_absolute_error: 3.8849 - val_loss: 3.9320 - val_mean_absolute_error: 3.9320\n",
      "\n",
      "Epoch 00006: val_loss did not improve from 3.81918\n",
      "Epoch 7/100\n",
      "5590/5590 [==============================] - 3s 494us/step - loss: 3.8879 - mean_absolute_error: 3.8879 - val_loss: 3.9048 - val_mean_absolute_error: 3.9048\n",
      "\n",
      "Epoch 00007: val_loss did not improve from 3.81918\n",
      "Epoch 8/100\n",
      "5590/5590 [==============================] - 3s 508us/step - loss: 3.8912 - mean_absolute_error: 3.8912 - val_loss: 3.8200 - val_mean_absolute_error: 3.8200\n",
      "\n",
      "Epoch 00008: val_loss did not improve from 3.81918\n",
      "Epoch 9/100\n",
      "5590/5590 [==============================] - 3s 485us/step - loss: 3.8771 - mean_absolute_error: 3.8771 - val_loss: 3.8313 - val_mean_absolute_error: 3.8313\n",
      "\n",
      "Epoch 00009: val_loss did not improve from 3.81918\n",
      "Epoch 10/100\n",
      "5590/5590 [==============================] - 3s 475us/step - loss: 3.8840 - mean_absolute_error: 3.8840 - val_loss: 3.8133 - val_mean_absolute_error: 3.8133\n",
      "\n",
      "Epoch 00010: val_loss improved from 3.81918 to 3.81333, saving model to /home/deba/dl/Weights-010--3.81333.hdf5\n",
      "Epoch 11/100\n",
      "5590/5590 [==============================] - 3s 491us/step - loss: 3.8758 - mean_absolute_error: 3.8758 - val_loss: 3.9011 - val_mean_absolute_error: 3.9011\n",
      "\n",
      "Epoch 00011: val_loss did not improve from 3.81333\n",
      "Epoch 12/100\n",
      "5590/5590 [==============================] - 3s 527us/step - loss: 3.8724 - mean_absolute_error: 3.8724 - val_loss: 3.8215 - val_mean_absolute_error: 3.8215\n",
      "\n",
      "Epoch 00012: val_loss did not improve from 3.81333\n",
      "Epoch 13/100\n",
      "5590/5590 [==============================] - 3s 599us/step - loss: 3.8686 - mean_absolute_error: 3.8686 - val_loss: 3.8158 - val_mean_absolute_error: 3.8158\n",
      "\n",
      "Epoch 00013: val_loss did not improve from 3.81333\n",
      "Epoch 14/100\n",
      "5590/5590 [==============================] - 3s 547us/step - loss: 3.8796 - mean_absolute_error: 3.8796 - val_loss: 3.8166 - val_mean_absolute_error: 3.8166\n",
      "\n",
      "Epoch 00014: val_loss did not improve from 3.81333\n",
      "Epoch 15/100\n",
      "5590/5590 [==============================] - 3s 555us/step - loss: 3.8771 - mean_absolute_error: 3.8771 - val_loss: 3.8026 - val_mean_absolute_error: 3.8026\n",
      "\n",
      "Epoch 00015: val_loss improved from 3.81333 to 3.80259, saving model to /home/deba/dl/Weights-015--3.80259.hdf5\n",
      "Epoch 16/100\n",
      "5590/5590 [==============================] - 3s 585us/step - loss: 3.8632 - mean_absolute_error: 3.8632 - val_loss: 3.8263 - val_mean_absolute_error: 3.8263\n",
      "\n",
      "Epoch 00016: val_loss did not improve from 3.80259\n",
      "Epoch 17/100\n",
      "5590/5590 [==============================] - 3s 555us/step - loss: 3.8816 - mean_absolute_error: 3.8816 - val_loss: 3.9155 - val_mean_absolute_error: 3.9155\n",
      "\n",
      "Epoch 00017: val_loss did not improve from 3.80259\n",
      "Epoch 18/100\n",
      "5590/5590 [==============================] - 3s 589us/step - loss: 3.8608 - mean_absolute_error: 3.8608 - val_loss: 3.8124 - val_mean_absolute_error: 3.8124\n",
      "\n",
      "Epoch 00018: val_loss did not improve from 3.80259\n",
      "Epoch 19/100\n",
      "5590/5590 [==============================] - 4s 650us/step - loss: 3.8438 - mean_absolute_error: 3.8438 - val_loss: 3.7937 - val_mean_absolute_error: 3.7937\n",
      "\n",
      "Epoch 00019: val_loss improved from 3.80259 to 3.79366, saving model to /home/deba/dl/Weights-019--3.79366.hdf5\n",
      "Epoch 20/100\n",
      "5590/5590 [==============================] - 3s 545us/step - loss: 3.8613 - mean_absolute_error: 3.8613 - val_loss: 3.7979 - val_mean_absolute_error: 3.7979\n",
      "\n",
      "Epoch 00020: val_loss did not improve from 3.79366\n",
      "Epoch 21/100\n",
      "5590/5590 [==============================] - 3s 612us/step - loss: 3.8687 - mean_absolute_error: 3.8687 - val_loss: 3.7927 - val_mean_absolute_error: 3.7927\n",
      "\n",
      "Epoch 00021: val_loss improved from 3.79366 to 3.79274, saving model to /home/deba/dl/Weights-021--3.79274.hdf5\n",
      "Epoch 22/100\n",
      "5590/5590 [==============================] - 4s 784us/step - loss: 3.8513 - mean_absolute_error: 3.8513 - val_loss: 3.7891 - val_mean_absolute_error: 3.7891\n",
      "\n",
      "Epoch 00022: val_loss improved from 3.79274 to 3.78913, saving model to /home/deba/dl/Weights-022--3.78913.hdf5\n",
      "Epoch 23/100\n",
      "5590/5590 [==============================] - 4s 719us/step - loss: 3.8493 - mean_absolute_error: 3.8493 - val_loss: 3.8554 - val_mean_absolute_error: 3.8554\n",
      "\n",
      "Epoch 00023: val_loss did not improve from 3.78913\n",
      "Epoch 24/100\n",
      "5590/5590 [==============================] - 4s 647us/step - loss: 3.8506 - mean_absolute_error: 3.8506 - val_loss: 3.7856 - val_mean_absolute_error: 3.7856\n",
      "\n",
      "Epoch 00024: val_loss improved from 3.78913 to 3.78563, saving model to /home/deba/dl/Weights-024--3.78563.hdf5\n",
      "Epoch 25/100\n",
      "5590/5590 [==============================] - 4s 733us/step - loss: 3.8663 - mean_absolute_error: 3.8663 - val_loss: 3.8083 - val_mean_absolute_error: 3.8083\n",
      "\n",
      "Epoch 00025: val_loss did not improve from 3.78563\n",
      "Epoch 26/100\n",
      "5590/5590 [==============================] - 4s 740us/step - loss: 3.8405 - mean_absolute_error: 3.8405 - val_loss: 3.7982 - val_mean_absolute_error: 3.7982\n",
      "\n",
      "Epoch 00026: val_loss did not improve from 3.78563\n",
      "Epoch 27/100\n",
      "5590/5590 [==============================] - 5s 841us/step - loss: 3.8547 - mean_absolute_error: 3.8547 - val_loss: 3.7942 - val_mean_absolute_error: 3.7942\n",
      "\n",
      "Epoch 00027: val_loss did not improve from 3.78563\n",
      "Epoch 28/100\n",
      "5590/5590 [==============================] - 4s 803us/step - loss: 3.8405 - mean_absolute_error: 3.8405 - val_loss: 3.7918 - val_mean_absolute_error: 3.7918\n",
      "\n",
      "Epoch 00028: val_loss did not improve from 3.78563\n",
      "Epoch 29/100\n",
      "5590/5590 [==============================] - 4s 741us/step - loss: 3.8474 - mean_absolute_error: 3.8474 - val_loss: 3.8102 - val_mean_absolute_error: 3.8102\n",
      "\n",
      "Epoch 00029: val_loss did not improve from 3.78563\n",
      "Epoch 30/100\n",
      "5590/5590 [==============================] - 4s 802us/step - loss: 3.8427 - mean_absolute_error: 3.8427 - val_loss: 3.7791 - val_mean_absolute_error: 3.7791\n",
      "\n",
      "Epoch 00030: val_loss improved from 3.78563 to 3.77913, saving model to /home/deba/dl/Weights-030--3.77913.hdf5\n",
      "Epoch 31/100\n",
      "5590/5590 [==============================] - 4s 734us/step - loss: 3.8552 - mean_absolute_error: 3.8552 - val_loss: 3.8330 - val_mean_absolute_error: 3.8330\n",
      "\n",
      "Epoch 00031: val_loss did not improve from 3.77913\n",
      "Epoch 32/100\n",
      "5590/5590 [==============================] - 4s 725us/step - loss: 3.8365 - mean_absolute_error: 3.8365 - val_loss: 3.7723 - val_mean_absolute_error: 3.7723\n",
      "\n",
      "Epoch 00032: val_loss improved from 3.77913 to 3.77229, saving model to /home/deba/dl/Weights-032--3.77229.hdf5\n",
      "Epoch 33/100\n",
      "5590/5590 [==============================] - 3s 570us/step - loss: 3.8413 - mean_absolute_error: 3.8413 - val_loss: 3.7866 - val_mean_absolute_error: 3.7866\n",
      "\n",
      "Epoch 00033: val_loss did not improve from 3.77229\n",
      "Epoch 34/100\n",
      "5590/5590 [==============================] - 4s 649us/step - loss: 3.8235 - mean_absolute_error: 3.8235 - val_loss: 3.7762 - val_mean_absolute_error: 3.7762\n"
     ]
    },
    {
     "name": "stdout",
     "output_type": "stream",
     "text": [
      "\n",
      "Epoch 00034: val_loss did not improve from 3.77229\n",
      "Epoch 35/100\n",
      "5590/5590 [==============================] - 3s 531us/step - loss: 3.8289 - mean_absolute_error: 3.8289 - val_loss: 3.8725 - val_mean_absolute_error: 3.8725\n",
      "\n",
      "Epoch 00035: val_loss did not improve from 3.77229\n",
      "Epoch 36/100\n",
      "5590/5590 [==============================] - 3s 510us/step - loss: 3.7970 - mean_absolute_error: 3.7970 - val_loss: 3.8943 - val_mean_absolute_error: 3.8943\n",
      "\n",
      "Epoch 00036: val_loss did not improve from 3.77229\n",
      "Epoch 37/100\n",
      "5590/5590 [==============================] - 3s 524us/step - loss: 3.8085 - mean_absolute_error: 3.8086 - val_loss: 3.7837 - val_mean_absolute_error: 3.7837\n",
      "\n",
      "Epoch 00037: val_loss did not improve from 3.77229\n",
      "Epoch 38/100\n",
      "5590/5590 [==============================] - 3s 514us/step - loss: 3.8098 - mean_absolute_error: 3.8098 - val_loss: 3.8542 - val_mean_absolute_error: 3.8542\n",
      "\n",
      "Epoch 00038: val_loss did not improve from 3.77229\n",
      "Epoch 39/100\n",
      "5590/5590 [==============================] - 3s 535us/step - loss: 3.8136 - mean_absolute_error: 3.8136 - val_loss: 3.7611 - val_mean_absolute_error: 3.7611\n",
      "\n",
      "Epoch 00039: val_loss improved from 3.77229 to 3.76111, saving model to /home/deba/dl/Weights-039--3.76111.hdf5\n",
      "Epoch 40/100\n",
      "5590/5590 [==============================] - 3s 492us/step - loss: 3.8285 - mean_absolute_error: 3.8285 - val_loss: 3.7806 - val_mean_absolute_error: 3.7806\n",
      "\n",
      "Epoch 00040: val_loss did not improve from 3.76111\n",
      "Epoch 41/100\n",
      "5590/5590 [==============================] - 3s 578us/step - loss: 3.8065 - mean_absolute_error: 3.8065 - val_loss: 4.0351 - val_mean_absolute_error: 4.0351\n",
      "\n",
      "Epoch 00041: val_loss did not improve from 3.76111\n",
      "Epoch 42/100\n",
      "5590/5590 [==============================] - 3s 525us/step - loss: 3.8106 - mean_absolute_error: 3.8106 - val_loss: 3.8392 - val_mean_absolute_error: 3.8392\n",
      "\n",
      "Epoch 00042: val_loss did not improve from 3.76111\n",
      "Epoch 43/100\n",
      "5590/5590 [==============================] - 3s 588us/step - loss: 3.8035 - mean_absolute_error: 3.8035 - val_loss: 3.7539 - val_mean_absolute_error: 3.7539\n",
      "\n",
      "Epoch 00043: val_loss improved from 3.76111 to 3.75392, saving model to /home/deba/dl/Weights-043--3.75392.hdf5\n",
      "Epoch 44/100\n",
      "5590/5590 [==============================] - 3s 574us/step - loss: 3.7943 - mean_absolute_error: 3.7943 - val_loss: 3.7777 - val_mean_absolute_error: 3.7777\n",
      "\n",
      "Epoch 00044: val_loss did not improve from 3.75392\n",
      "Epoch 45/100\n",
      "5590/5590 [==============================] - 3s 624us/step - loss: 3.8326 - mean_absolute_error: 3.8326 - val_loss: 3.7740 - val_mean_absolute_error: 3.7740\n",
      "\n",
      "Epoch 00045: val_loss did not improve from 3.75392\n",
      "Epoch 46/100\n",
      "5590/5590 [==============================] - 3s 543us/step - loss: 3.8081 - mean_absolute_error: 3.8081 - val_loss: 3.7499 - val_mean_absolute_error: 3.7499\n",
      "\n",
      "Epoch 00046: val_loss improved from 3.75392 to 3.74994, saving model to /home/deba/dl/Weights-046--3.74994.hdf5\n",
      "Epoch 47/100\n",
      "5590/5590 [==============================] - 3s 504us/step - loss: 3.7947 - mean_absolute_error: 3.7947 - val_loss: 3.7476 - val_mean_absolute_error: 3.7476\n",
      "\n",
      "Epoch 00047: val_loss improved from 3.74994 to 3.74764, saving model to /home/deba/dl/Weights-047--3.74764.hdf5\n",
      "Epoch 48/100\n",
      "5590/5590 [==============================] - 4s 664us/step - loss: 3.8019 - mean_absolute_error: 3.8019 - val_loss: 3.7462 - val_mean_absolute_error: 3.7462\n",
      "\n",
      "Epoch 00048: val_loss improved from 3.74764 to 3.74625, saving model to /home/deba/dl/Weights-048--3.74625.hdf5\n",
      "Epoch 49/100\n",
      "5590/5590 [==============================] - 5s 844us/step - loss: 3.7943 - mean_absolute_error: 3.7943 - val_loss: 3.8075 - val_mean_absolute_error: 3.8075\n",
      "\n",
      "Epoch 00049: val_loss did not improve from 3.74625\n",
      "Epoch 50/100\n",
      "5590/5590 [==============================] - 4s 702us/step - loss: 3.7852 - mean_absolute_error: 3.7852 - val_loss: 3.7469 - val_mean_absolute_error: 3.7469\n",
      "\n",
      "Epoch 00050: val_loss did not improve from 3.74625\n",
      "Epoch 51/100\n",
      "5590/5590 [==============================] - 3s 621us/step - loss: 3.7842 - mean_absolute_error: 3.7842 - val_loss: 3.7411 - val_mean_absolute_error: 3.7411\n",
      "\n",
      "Epoch 00051: val_loss improved from 3.74625 to 3.74108, saving model to /home/deba/dl/Weights-051--3.74108.hdf5\n",
      "Epoch 52/100\n",
      "5590/5590 [==============================] - 4s 684us/step - loss: 3.7841 - mean_absolute_error: 3.7841 - val_loss: 3.7416 - val_mean_absolute_error: 3.7416\n",
      "\n",
      "Epoch 00052: val_loss did not improve from 3.74108\n",
      "Epoch 53/100\n",
      "5590/5590 [==============================] - 4s 739us/step - loss: 3.7845 - mean_absolute_error: 3.7845 - val_loss: 3.7389 - val_mean_absolute_error: 3.7389\n",
      "\n",
      "Epoch 00053: val_loss improved from 3.74108 to 3.73885, saving model to /home/deba/dl/Weights-053--3.73885.hdf5\n",
      "Epoch 54/100\n",
      "5590/5590 [==============================] - 5s 813us/step - loss: 3.7956 - mean_absolute_error: 3.7956 - val_loss: 3.9024 - val_mean_absolute_error: 3.9024\n",
      "\n",
      "Epoch 00054: val_loss did not improve from 3.73885\n",
      "Epoch 55/100\n",
      "5590/5590 [==============================] - 3s 602us/step - loss: 3.8076 - mean_absolute_error: 3.8076 - val_loss: 3.7822 - val_mean_absolute_error: 3.7822\n",
      "\n",
      "Epoch 00055: val_loss did not improve from 3.73885\n",
      "Epoch 56/100\n",
      "5590/5590 [==============================] - 3s 505us/step - loss: 3.7833 - mean_absolute_error: 3.7833 - val_loss: 3.7526 - val_mean_absolute_error: 3.7526\n",
      "\n",
      "Epoch 00056: val_loss did not improve from 3.73885\n",
      "Epoch 57/100\n",
      "5590/5590 [==============================] - 3s 512us/step - loss: 3.7736 - mean_absolute_error: 3.7736 - val_loss: 3.8113 - val_mean_absolute_error: 3.8113\n",
      "\n",
      "Epoch 00057: val_loss did not improve from 3.73885\n",
      "Epoch 58/100\n",
      "5590/5590 [==============================] - 4s 635us/step - loss: 3.7896 - mean_absolute_error: 3.7896 - val_loss: 3.7356 - val_mean_absolute_error: 3.7356\n",
      "\n",
      "Epoch 00058: val_loss improved from 3.73885 to 3.73556, saving model to /home/deba/dl/Weights-058--3.73556.hdf5\n",
      "Epoch 59/100\n",
      "5590/5590 [==============================] - 4s 794us/step - loss: 3.7832 - mean_absolute_error: 3.7832 - val_loss: 3.8168 - val_mean_absolute_error: 3.8168\n",
      "\n",
      "Epoch 00059: val_loss did not improve from 3.73556\n",
      "Epoch 60/100\n",
      "5590/5590 [==============================] - 4s 736us/step - loss: 3.7870 - mean_absolute_error: 3.7870 - val_loss: 3.7320 - val_mean_absolute_error: 3.7320\n",
      "\n",
      "Epoch 00060: val_loss improved from 3.73556 to 3.73203, saving model to /home/deba/dl/Weights-060--3.73203.hdf5\n",
      "Epoch 61/100\n",
      "5590/5590 [==============================] - 4s 654us/step - loss: 3.7786 - mean_absolute_error: 3.7786 - val_loss: 3.7249 - val_mean_absolute_error: 3.7249\n",
      "\n",
      "Epoch 00061: val_loss improved from 3.73203 to 3.72493, saving model to /home/deba/dl/Weights-061--3.72493.hdf5\n",
      "Epoch 62/100\n",
      "5590/5590 [==============================] - 4s 735us/step - loss: 3.7880 - mean_absolute_error: 3.7880 - val_loss: 3.8100 - val_mean_absolute_error: 3.8100\n",
      "\n",
      "Epoch 00062: val_loss did not improve from 3.72493\n",
      "Epoch 63/100\n",
      "5590/5590 [==============================] - 3s 587us/step - loss: 3.7826 - mean_absolute_error: 3.7826 - val_loss: 3.7507 - val_mean_absolute_error: 3.7507\n",
      "\n",
      "Epoch 00063: val_loss did not improve from 3.72493\n",
      "Epoch 64/100\n",
      "5590/5590 [==============================] - 4s 646us/step - loss: 3.7784 - mean_absolute_error: 3.7784 - val_loss: 3.8223 - val_mean_absolute_error: 3.8223\n",
      "\n",
      "Epoch 00064: val_loss did not improve from 3.72493\n",
      "Epoch 65/100\n",
      "5590/5590 [==============================] - 4s 740us/step - loss: 3.7517 - mean_absolute_error: 3.7517 - val_loss: 3.7710 - val_mean_absolute_error: 3.7710\n",
      "\n",
      "Epoch 00065: val_loss did not improve from 3.72493\n",
      "Epoch 66/100\n",
      "5590/5590 [==============================] - 4s 751us/step - loss: 3.7829 - mean_absolute_error: 3.7829 - val_loss: 3.7174 - val_mean_absolute_error: 3.7174\n",
      "\n",
      "Epoch 00066: val_loss improved from 3.72493 to 3.71740, saving model to /home/deba/dl/Weights-066--3.71740.hdf5\n",
      "Epoch 67/100\n",
      "5590/5590 [==============================] - 4s 691us/step - loss: 3.7644 - mean_absolute_error: 3.7644 - val_loss: 3.7231 - val_mean_absolute_error: 3.7231\n",
      "\n",
      "Epoch 00067: val_loss did not improve from 3.71740\n",
      "Epoch 68/100\n",
      "5590/5590 [==============================] - 4s 667us/step - loss: 3.7742 - mean_absolute_error: 3.7742 - val_loss: 3.8519 - val_mean_absolute_error: 3.8519\n"
     ]
    },
    {
     "name": "stdout",
     "output_type": "stream",
     "text": [
      "\n",
      "Epoch 00068: val_loss did not improve from 3.71740\n",
      "Epoch 69/100\n",
      "5590/5590 [==============================] - 2s 383us/step - loss: 3.7826 - mean_absolute_error: 3.7826 - val_loss: 3.7305 - val_mean_absolute_error: 3.7305\n",
      "\n",
      "Epoch 00069: val_loss did not improve from 3.71740\n",
      "Epoch 70/100\n",
      "5590/5590 [==============================] - 2s 393us/step - loss: 3.7506 - mean_absolute_error: 3.7506 - val_loss: 3.7360 - val_mean_absolute_error: 3.7360\n",
      "\n",
      "Epoch 00070: val_loss did not improve from 3.71740\n",
      "Epoch 71/100\n",
      "5590/5590 [==============================] - 2s 412us/step - loss: 3.7562 - mean_absolute_error: 3.7562 - val_loss: 3.7571 - val_mean_absolute_error: 3.7571\n",
      "\n",
      "Epoch 00071: val_loss did not improve from 3.71740\n",
      "Epoch 72/100\n",
      "5590/5590 [==============================] - 2s 397us/step - loss: 3.7495 - mean_absolute_error: 3.7495 - val_loss: 3.7103 - val_mean_absolute_error: 3.7103\n",
      "\n",
      "Epoch 00072: val_loss improved from 3.71740 to 3.71034, saving model to /home/deba/dl/Weights-072--3.71034.hdf5\n",
      "Epoch 73/100\n",
      "5590/5590 [==============================] - 2s 376us/step - loss: 3.7552 - mean_absolute_error: 3.7552 - val_loss: 3.7085 - val_mean_absolute_error: 3.7085\n",
      "\n",
      "Epoch 00073: val_loss improved from 3.71034 to 3.70855, saving model to /home/deba/dl/Weights-073--3.70855.hdf5\n",
      "Epoch 74/100\n",
      "5590/5590 [==============================] - 2s 385us/step - loss: 3.7584 - mean_absolute_error: 3.7584 - val_loss: 3.7123 - val_mean_absolute_error: 3.7123\n",
      "\n",
      "Epoch 00074: val_loss did not improve from 3.70855\n",
      "Epoch 75/100\n",
      "5590/5590 [==============================] - 2s 434us/step - loss: 3.7493 - mean_absolute_error: 3.7493 - val_loss: 3.7139 - val_mean_absolute_error: 3.7139\n",
      "\n",
      "Epoch 00075: val_loss did not improve from 3.70855\n",
      "Epoch 76/100\n",
      "5590/5590 [==============================] - 2s 409us/step - loss: 3.7474 - mean_absolute_error: 3.7474 - val_loss: 3.7187 - val_mean_absolute_error: 3.7187\n",
      "\n",
      "Epoch 00076: val_loss did not improve from 3.70855\n",
      "Epoch 77/100\n",
      "5590/5590 [==============================] - 2s 438us/step - loss: 3.7455 - mean_absolute_error: 3.7455 - val_loss: 3.7398 - val_mean_absolute_error: 3.7398\n",
      "\n",
      "Epoch 00077: val_loss did not improve from 3.70855\n",
      "Epoch 78/100\n",
      "5590/5590 [==============================] - 2s 442us/step - loss: 3.7852 - mean_absolute_error: 3.7852 - val_loss: 3.7077 - val_mean_absolute_error: 3.7077\n",
      "\n",
      "Epoch 00078: val_loss improved from 3.70855 to 3.70766, saving model to /home/deba/dl/Weights-078--3.70766.hdf5\n",
      "Epoch 79/100\n",
      "5590/5590 [==============================] - 4s 729us/step - loss: 3.7392 - mean_absolute_error: 3.7392 - val_loss: 3.8016 - val_mean_absolute_error: 3.8016\n",
      "\n",
      "Epoch 00079: val_loss did not improve from 3.70766\n",
      "Epoch 80/100\n",
      "5590/5590 [==============================] - 4s 709us/step - loss: 3.7415 - mean_absolute_error: 3.7415 - val_loss: 3.7087 - val_mean_absolute_error: 3.7087\n",
      "\n",
      "Epoch 00080: val_loss did not improve from 3.70766\n",
      "Epoch 81/100\n",
      "5590/5590 [==============================] - 5s 813us/step - loss: 3.7454 - mean_absolute_error: 3.7454 - val_loss: 3.7741 - val_mean_absolute_error: 3.7741\n",
      "\n",
      "Epoch 00081: val_loss did not improve from 3.70766\n",
      "Epoch 82/100\n",
      "5590/5590 [==============================] - 5s 894us/step - loss: 3.7425 - mean_absolute_error: 3.7425 - val_loss: 3.7406 - val_mean_absolute_error: 3.7406\n",
      "\n",
      "Epoch 00082: val_loss did not improve from 3.70766\n",
      "Epoch 83/100\n",
      "5590/5590 [==============================] - 4s 674us/step - loss: 3.7264 - mean_absolute_error: 3.7264 - val_loss: 3.7365 - val_mean_absolute_error: 3.7365\n",
      "\n",
      "Epoch 00083: val_loss did not improve from 3.70766\n",
      "Epoch 84/100\n",
      "5590/5590 [==============================] - 4s 755us/step - loss: 3.7476 - mean_absolute_error: 3.7476 - val_loss: 3.6938 - val_mean_absolute_error: 3.6938\n",
      "\n",
      "Epoch 00084: val_loss improved from 3.70766 to 3.69382, saving model to /home/deba/dl/Weights-084--3.69382.hdf5\n",
      "Epoch 85/100\n",
      "5590/5590 [==============================] - 4s 700us/step - loss: 3.7515 - mean_absolute_error: 3.7515 - val_loss: 3.7320 - val_mean_absolute_error: 3.7320\n",
      "\n",
      "Epoch 00085: val_loss did not improve from 3.69382\n",
      "Epoch 86/100\n",
      "5590/5590 [==============================] - 4s 782us/step - loss: 3.7229 - mean_absolute_error: 3.7229 - val_loss: 3.6988 - val_mean_absolute_error: 3.6988\n",
      "\n",
      "Epoch 00086: val_loss did not improve from 3.69382\n",
      "Epoch 87/100\n",
      "5590/5590 [==============================] - 4s 759us/step - loss: 3.7286 - mean_absolute_error: 3.7286 - val_loss: 3.8273 - val_mean_absolute_error: 3.8273\n",
      "\n",
      "Epoch 00087: val_loss did not improve from 3.69382\n",
      "Epoch 88/100\n",
      "5590/5590 [==============================] - 3s 575us/step - loss: 3.7348 - mean_absolute_error: 3.7348 - val_loss: 3.6973 - val_mean_absolute_error: 3.6973\n",
      "\n",
      "Epoch 00088: val_loss did not improve from 3.69382\n",
      "Epoch 89/100\n",
      "5590/5590 [==============================] - 3s 457us/step - loss: 3.7198 - mean_absolute_error: 3.7198 - val_loss: 3.6844 - val_mean_absolute_error: 3.6844\n",
      "\n",
      "Epoch 00089: val_loss improved from 3.69382 to 3.68439, saving model to /home/deba/dl/Weights-089--3.68439.hdf5\n",
      "Epoch 90/100\n",
      "5590/5590 [==============================] - 2s 397us/step - loss: 3.7170 - mean_absolute_error: 3.7170 - val_loss: 3.6946 - val_mean_absolute_error: 3.6946\n",
      "\n",
      "Epoch 00090: val_loss did not improve from 3.68439\n",
      "Epoch 91/100\n",
      "5590/5590 [==============================] - 2s 303us/step - loss: 3.7117 - mean_absolute_error: 3.7117 - val_loss: 3.6960 - val_mean_absolute_error: 3.6960\n",
      "\n",
      "Epoch 00091: val_loss did not improve from 3.68439\n",
      "Epoch 92/100\n",
      "5590/5590 [==============================] - 1s 257us/step - loss: 3.7124 - mean_absolute_error: 3.7124 - val_loss: 3.6863 - val_mean_absolute_error: 3.6863\n",
      "\n",
      "Epoch 00092: val_loss did not improve from 3.68439\n",
      "Epoch 93/100\n",
      "5590/5590 [==============================] - 1s 219us/step - loss: 3.7295 - mean_absolute_error: 3.7295 - val_loss: 3.6861 - val_mean_absolute_error: 3.6861\n",
      "\n",
      "Epoch 00093: val_loss did not improve from 3.68439\n",
      "Epoch 94/100\n",
      "5590/5590 [==============================] - 1s 265us/step - loss: 3.7106 - mean_absolute_error: 3.7106 - val_loss: 3.6881 - val_mean_absolute_error: 3.6881\n",
      "\n",
      "Epoch 00094: val_loss did not improve from 3.68439\n",
      "Epoch 95/100\n",
      "5590/5590 [==============================] - 1s 218us/step - loss: 3.7071 - mean_absolute_error: 3.7071 - val_loss: 3.6770 - val_mean_absolute_error: 3.6770\n",
      "\n",
      "Epoch 00095: val_loss improved from 3.68439 to 3.67700, saving model to /home/deba/dl/Weights-095--3.67700.hdf5\n",
      "Epoch 96/100\n",
      "5590/5590 [==============================] - 1s 232us/step - loss: 3.7303 - mean_absolute_error: 3.7303 - val_loss: 3.6831 - val_mean_absolute_error: 3.6831\n",
      "\n",
      "Epoch 00096: val_loss did not improve from 3.67700\n",
      "Epoch 97/100\n",
      "5590/5590 [==============================] - 1s 259us/step - loss: 3.7051 - mean_absolute_error: 3.7051 - val_loss: 3.7648 - val_mean_absolute_error: 3.7648\n",
      "\n",
      "Epoch 00097: val_loss did not improve from 3.67700\n",
      "Epoch 98/100\n",
      "5590/5590 [==============================] - 2s 269us/step - loss: 3.7151 - mean_absolute_error: 3.7151 - val_loss: 3.6921 - val_mean_absolute_error: 3.6921\n",
      "\n",
      "Epoch 00098: val_loss did not improve from 3.67700\n",
      "Epoch 99/100\n",
      "5590/5590 [==============================] - 3s 477us/step - loss: 3.7088 - mean_absolute_error: 3.7088 - val_loss: 3.6716 - val_mean_absolute_error: 3.6716\n",
      "\n",
      "Epoch 00099: val_loss improved from 3.67700 to 3.67162, saving model to /home/deba/dl/Weights-099--3.67162.hdf5\n",
      "Epoch 100/100\n",
      "5590/5590 [==============================] - 2s 359us/step - loss: 3.7208 - mean_absolute_error: 3.7208 - val_loss: 3.7099 - val_mean_absolute_error: 3.7099\n",
      "\n",
      "Epoch 00100: val_loss did not improve from 3.67162\n"
     ]
    },
    {
     "data": {
      "text/plain": [
       "<keras.callbacks.callbacks.History at 0x7fe842cb48d0>"
      ]
     },
     "execution_count": 182,
     "metadata": {},
     "output_type": "execute_result"
    }
   ],
   "source": [
    "NN_model.fit(X_train.reshape(-1,1), y_train, epochs=100, batch_size=32, validation_split = 0.2, callbacks=callbacks_list)\n"
   ]
  },
  {
   "cell_type": "code",
   "execution_count": 183,
   "metadata": {},
   "outputs": [],
   "source": [
    "predictions = NN_model.predict(X_test.reshape(-1,1))"
   ]
  },
  {
   "cell_type": "code",
   "execution_count": 189,
   "metadata": {},
   "outputs": [
    {
     "data": {
      "text/plain": [
       "22.02093166472962"
      ]
     },
     "execution_count": 189,
     "metadata": {},
     "output_type": "execute_result"
    }
   ],
   "source": [
    "metrics.mean_squared_error(y_test.reshape(-1,1),predictions)"
   ]
  },
  {
   "cell_type": "markdown",
   "metadata": {},
   "source": [
    "##reduce the square error"
   ]
  },
  {
   "cell_type": "code",
   "execution_count": null,
   "metadata": {},
   "outputs": [],
   "source": []
  }
 ],
 "metadata": {
  "kernelspec": {
   "display_name": "Python 3",
   "language": "python",
   "name": "python3"
  },
  "language_info": {
   "codemirror_mode": {
    "name": "ipython",
    "version": 3
   },
   "file_extension": ".py",
   "mimetype": "text/x-python",
   "name": "python",
   "nbconvert_exporter": "python",
   "pygments_lexer": "ipython3",
   "version": "3.5.2"
  }
 },
 "nbformat": 4,
 "nbformat_minor": 2
}
